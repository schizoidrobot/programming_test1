{
 "cells": [
  {
   "cell_type": "code",
   "execution_count": 28,
   "metadata": {},
   "outputs": [],
   "source": [
    "import numpy as np\n",
    "import pandas as pd\n",
    "import matplotlib.pyplot as plt\n",
    "import seaborn as sb\n",
    "import scipy as sp"
   ]
  },
  {
   "cell_type": "code",
   "execution_count": 55,
   "metadata": {},
   "outputs": [
    {
     "name": "stdout",
     "output_type": "stream",
     "text": [
      "Empty DataFrame\n",
      "Columns: [Open, High, Low, Close, Volume, Dividend, Split, Adj_Open, Adj_High, Adj_Low, Adj_Close, Adj_Volume]\n",
      "Index: []\n"
     ]
    }
   ],
   "source": [
    "# Q1 Download daily stock prices for 3 stocks (e.g., Apple (AAPL), Alphabet (GOOG),\n",
    "# Facebook (FB)) for the last 10 years from Quandl\n",
    "import quandl\n",
    "quandl.ApiConfig.api_key = \"dsC_7vD7MWXin-uGnyPo\"\n",
    "\n",
    "#data = quandl.get_table('ZACKS/FC', paginate=True, ticker=['AAPL', 'MSFT'], per_end_date={'gte': '2010-08-22'}, qopts={'columns':['close']})\n",
    "\n",
    "#dataApple = quandl.get(\"EOD/AAPL\", start_date=\"2010-8-21\", end_date=\"2020-8-21\")\n",
    "dataMicrosoft = quandl.get(\"EOD/MSFT\", paginate = 'true', start_date=\"2019-8-21\", end_date=\"2020-8-21\")\n",
    "#dataFB = quandl.get(\"EOD/FB\", start_date=\"2010-8-21\", end_date=\"2020-8-21\")\n",
    "print(dataMicrosoft)"
   ]
  },
  {
   "cell_type": "code",
   "execution_count": null,
   "metadata": {},
   "outputs": [],
   "source": []
  },
  {
   "cell_type": "markdown",
   "metadata": {},
   "source": [
    "Question 2: Compute returns r_i = (P_{i+1} - P_{i}) / P_{i}, where i is today, and i + 1 is tomorrow\n",
    "    ● So, r_i represents the return of an investment buying / selling today (day i) to selling /\n",
    "buying tomorrow (day i + 1).\n",
    "● Can you compute some statistics on the return time series?\n",
    "● For each stock"
   ]
  },
  {
   "cell_type": "code",
   "execution_count": null,
   "metadata": {},
   "outputs": [],
   "source": []
  }
 ],
 "metadata": {
  "kernelspec": {
   "display_name": "Python 3",
   "language": "python",
   "name": "python3"
  },
  "language_info": {
   "codemirror_mode": {
    "name": "ipython",
    "version": 3
   },
   "file_extension": ".py",
   "mimetype": "text/x-python",
   "name": "python",
   "nbconvert_exporter": "python",
   "pygments_lexer": "ipython3",
   "version": "3.7.4"
  }
 },
 "nbformat": 4,
 "nbformat_minor": 2
}
